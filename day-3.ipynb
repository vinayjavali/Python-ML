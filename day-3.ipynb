{
 "cells": [
  {
   "cell_type": "markdown",
   "metadata": {},
   "source": [
    "***Print the number in range***"
   ]
  },
  {
   "cell_type": "code",
   "execution_count": 2,
   "metadata": {},
   "outputs": [
    {
     "name": "stdout",
     "output_type": "stream",
     "text": [
      "6\n",
      "8\n",
      "10\n",
      "12\n",
      "14\n",
      "16\n",
      "18\n"
     ]
    }
   ],
   "source": [
    "for x in range(6,20,2):\n",
    "  print(x)"
   ]
  },
  {
   "cell_type": "markdown",
   "metadata": {},
   "source": [
    "***While loop finding single or double digit***"
   ]
  },
  {
   "cell_type": "code",
   "execution_count": 8,
   "metadata": {},
   "outputs": [
    {
     "name": "stdout",
     "output_type": "stream",
     "text": [
      "number is more than double digit\n"
     ]
    }
   ],
   "source": [
    "num=int(input(\"enter the number\"))\n",
    "while num<=9:\n",
    "  print(\"number is single digit\")\n",
    "  break\n",
    "while num>9 and num<=99:\n",
    "  print(\"number is double digit\")\n",
    "  break\n",
    "else:\n",
    "  print(\"number is more than double digit\")\n",
    "  "
   ]
  },
  {
   "cell_type": "markdown",
   "metadata": {},
   "source": [
    "***Identity Operation***"
   ]
  },
  {
   "cell_type": "code",
   "execution_count": 7,
   "metadata": {},
   "outputs": [
    {
     "name": "stdout",
     "output_type": "stream",
     "text": [
      "False\n",
      "False\n",
      "True\n"
     ]
    }
   ],
   "source": [
    "x=[\"HUBLI\",\"DHARWAD\"]\n",
    "y=[\"HUBLI\",\"DHARWAD\"]\n",
    "\n",
    "z=y\n",
    "z=x\n",
    "print(z is not x)\n",
    "print(y is x)\n",
    "print(y not in z)"
   ]
  },
  {
   "cell_type": "markdown",
   "metadata": {},
   "source": [
    "***Functions***"
   ]
  },
  {
   "cell_type": "code",
   "execution_count": 3,
   "metadata": {},
   "outputs": [
    {
     "name": "stdout",
     "output_type": "stream",
     "text": [
      "No of pieces= 100\n",
      "Flavour of the cake= apple\n",
      "Size of the cake= medium\n"
     ]
    }
   ],
   "source": [
    "def cake_baker(p,f,s):\n",
    "  print(\"No of pieces=\",p)\n",
    "  print(\"Flavour of the cake=\",f)\n",
    "  print(\"Size of the cake=\",s)\n",
    "  \n",
    "cake_baker(\"100\",\"apple\",\"medium\")"
   ]
  }
 ],
 "metadata": {
  "kernelspec": {
   "display_name": "Python 3",
   "language": "python",
   "name": "python3"
  },
  "language_info": {
   "codemirror_mode": {
    "name": "ipython",
    "version": 3
   },
   "file_extension": ".py",
   "mimetype": "text/x-python",
   "name": "python",
   "nbconvert_exporter": "python",
   "pygments_lexer": "ipython3",
   "version": "3.11.4"
  },
  "orig_nbformat": 4
 },
 "nbformat": 4,
 "nbformat_minor": 2
}
