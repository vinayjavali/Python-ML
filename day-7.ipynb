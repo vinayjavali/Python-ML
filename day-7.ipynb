{
 "cells": [
  {
   "cell_type": "code",
   "execution_count": null,
   "metadata": {},
   "outputs": [],
   "source": []
  },
  {
   "cell_type": "code",
   "execution_count": null,
   "metadata": {},
   "outputs": [],
   "source": [
    "import pandas as pd\n",
    "import numpy as np\n",
    "import random\n",
    "import matplotlib.pyplot as plt\n",
    "from sklearn.linear_model import LinearRegression\n",
    "from sklearn.metrics import mean_squared_error\n",
    "\n",
    "x=np.array([])\n",
    "y=np.array([])\n",
    "for i in range(1,6):\n",
    "  z=random.randint(1,100)\n",
    "  t=random.randint(1,100)\n",
    "  x=np.append(x,z)\n",
    "  y=np.append(y,t)\n",
    "print(x)\n",
    "print(y)\n",
    "\n",
    "x=x.reshape([-1,1])\n",
    "plt.scatter(x,y)\n",
    "plt.xlabel(\"IV\")\n",
    "plt.ylabel(\"DV\")\n",
    "plt.show()\n",
    "\n",
    "\n",
    "SLR=LinearRegression()\n",
    "SLR.fit(x,y)\n",
    "\n",
    "pred=SLR.predict(x)\n",
    "\n",
    "mse=mean_squared_error(y,pred)\n",
    "plt.plot(x,pred,color='red',marker='*')\n",
    "\n",
    "print(\"MSE:\",mse)\n",
    "print(\"intercept\",SLR.intercept_)\n",
    "print(\"slope:\",SLR.coef_)"
   ]
  }
 ],
 "metadata": {
  "language_info": {
   "name": "python"
  },
  "orig_nbformat": 4
 },
 "nbformat": 4,
 "nbformat_minor": 2
}
