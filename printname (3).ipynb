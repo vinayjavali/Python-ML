{
  "cells": [
    {
      "cell_type": "code",
      "execution_count": null,
      "metadata": {
        "colab": {
          "base_uri": "https://localhost:8080/"
        },
        "id": "Td-2tBkbVE3c",
        "outputId": "7a14d5ee-2986-46cd-b27a-586dc8d47363"
      },
      "outputs": [
        {
          "name": "stdout",
          "output_type": "stream",
          "text": [
            "hello world\n"
          ]
        }
      ],
      "source": [
        "print(\"hello world\")"
      ]
    },
    {
      "cell_type": "markdown",
      "metadata": {
        "id": "IiL5GZ5vG5EF"
      },
      "source": []
    },
    {
      "cell_type": "markdown",
      "metadata": {
        "id": "RIpSDrE-V13C"
      },
      "source": [
        "***my first program***"
      ]
    },
    {
      "cell_type": "code",
      "execution_count": 1,
      "metadata": {
        "colab": {
          "base_uri": "https://localhost:8080/"
        },
        "id": "goPIMHfDWKTt",
        "outputId": "ddc293c8-5ae3-43a4-d3f9-1517929d69b5"
      },
      "outputs": [
        {
          "name": "stdout",
          "output_type": "stream",
          "text": [
            "i am Sanjana\n"
          ]
        }
      ],
      "source": [
        "print(\"i am Sanjana\")"
      ]
    },
    {
      "cell_type": "code",
      "execution_count": null,
      "metadata": {
        "id": "PwxCLLl8WeP8"
      },
      "outputs": [],
      "source": [
        "a+b"
      ]
    },
    {
      "cell_type": "markdown",
      "metadata": {
        "id": "Z1HZFMuXXHL3"
      },
      "source": [
        "**variable declarartion in python**"
      ]
    },
    {
      "cell_type": "code",
      "execution_count": null,
      "metadata": {
        "colab": {
          "base_uri": "https://localhost:8080/"
        },
        "id": "i4XMshQ7Xluu",
        "outputId": "84ca2ad9-8c08-467f-9d2c-6d25ecf995cc"
      },
      "outputs": [
        {
          "name": "stdout",
          "output_type": "stream",
          "text": [
            "14\n",
            "sum\n"
          ]
        }
      ],
      "source": [
        "a=5\n",
        "b=9\n",
        "sum=a+b\n",
        "print(sum)\n",
        "print(\"sum\")"
      ]
    },
    {
      "cell_type": "code",
      "execution_count": null,
      "metadata": {
        "id": "drLrsNNfX0fe"
      },
      "outputs": [],
      "source": []
    },
    {
      "cell_type": "markdown",
      "metadata": {
        "id": "IxlRn3DpiO7A"
      },
      "source": [
        "Subtraction\n"
      ]
    },
    {
      "cell_type": "code",
      "execution_count": null,
      "metadata": {
        "colab": {
          "base_uri": "https://localhost:8080/"
        },
        "id": "ljBT18ZJbSUY",
        "outputId": "e6bef6e3-1f32-440f-be6d-3f4f615e65cc"
      },
      "outputs": [
        {
          "data": {
            "text/plain": [
              "-4"
            ]
          },
          "execution_count": 5,
          "metadata": {},
          "output_type": "execute_result"
        }
      ],
      "source": [
        "a-b"
      ]
    },
    {
      "cell_type": "markdown",
      "metadata": {
        "id": "Qr0YwVg3iZSm"
      },
      "source": [
        "Multiplication"
      ]
    },
    {
      "cell_type": "code",
      "execution_count": null,
      "metadata": {
        "colab": {
          "base_uri": "https://localhost:8080/"
        },
        "id": "Kp8bI7vAbnd7",
        "outputId": "e7bcacc2-fcb4-4e08-baa3-ec4a589491bd"
      },
      "outputs": [
        {
          "data": {
            "text/plain": [
              "45"
            ]
          },
          "execution_count": 6,
          "metadata": {},
          "output_type": "execute_result"
        }
      ],
      "source": [
        "a*b"
      ]
    },
    {
      "cell_type": "code",
      "execution_count": null,
      "metadata": {
        "colab": {
          "base_uri": "https://localhost:8080/"
        },
        "id": "np2FL0sNbpHk",
        "outputId": "119ebef5-dea6-4066-b07a-5bb54885131a"
      },
      "outputs": [
        {
          "name": "stdout",
          "output_type": "stream",
          "text": [
            "-4\n"
          ]
        }
      ],
      "source": [
        "a=5\n",
        "b=9\n",
        "diff=a-b\n",
        "print(diff)"
      ]
    },
    {
      "cell_type": "code",
      "execution_count": null,
      "metadata": {
        "colab": {
          "base_uri": "https://localhost:8080/"
        },
        "id": "18dsZnheb7ei",
        "outputId": "606ca309-1c3a-4a9a-e440-ed4d364196b1"
      },
      "outputs": [
        {
          "name": "stdout",
          "output_type": "stream",
          "text": [
            "-4\n",
            "-7\n"
          ]
        }
      ],
      "source": [
        "a=5\n",
        "b=9\n",
        "c=3\n",
        "diff1=a-b\n",
        "diff2=a-b-c\n",
        "print(diff1)\n",
        "print(diff2)"
      ]
    },
    {
      "cell_type": "code",
      "execution_count": null,
      "metadata": {
        "colab": {
          "base_uri": "https://localhost:8080/"
        },
        "id": "rajif1RhcSgx",
        "outputId": "253bc607-f729-4fbd-d32d-0c00582484dd"
      },
      "outputs": [
        {
          "name": "stdout",
          "output_type": "stream",
          "text": [
            "45\n"
          ]
        }
      ],
      "source": [
        "a=5\n",
        "b=9\n",
        "mul=a*b\n",
        "print(mul)"
      ]
    },
    {
      "cell_type": "code",
      "execution_count": null,
      "metadata": {
        "colab": {
          "base_uri": "https://localhost:8080/"
        },
        "id": "7YGEeORicdFz",
        "outputId": "e4e597fb-4579-4388-a6a2-21e0f32ce6fa"
      },
      "outputs": [
        {
          "name": "stdout",
          "output_type": "stream",
          "text": [
            "25\n"
          ]
        }
      ],
      "source": [
        "a=5\n",
        "sqr=a*a\n",
        "print(sqr)"
      ]
    },
    {
      "cell_type": "code",
      "execution_count": null,
      "metadata": {
        "colab": {
          "base_uri": "https://localhost:8080/"
        },
        "id": "RbA24Y8oc-gx",
        "outputId": "299c4cee-ee1d-413c-b47e-1a95587b745d"
      },
      "outputs": [
        {
          "name": "stdout",
          "output_type": "stream",
          "text": [
            "100000000000000000000000000000000\n"
          ]
        }
      ],
      "source": [
        "a=10\n",
        "sqr=a**32\n",
        "print(sqr)"
      ]
    },
    {
      "cell_type": "code",
      "execution_count": null,
      "metadata": {
        "colab": {
          "base_uri": "https://localhost:8080/"
        },
        "id": "nDSNaxStezno",
        "outputId": "1aab875c-a00e-428e-f1b0-5dd67c23f348"
      },
      "outputs": [
        {
          "name": "stdout",
          "output_type": "stream",
          "text": [
            "quotient 2\n",
            "reminder 0\n"
          ]
        }
      ],
      "source": [
        "dividend=8\n",
        "divisior=4\n",
        "quotient=dividend // divisior\n",
        "reminder=dividend % divisior\n",
        "print(\"quotient\",quotient)\n",
        "print(\"reminder\",reminder)\n"
      ]
    },
    {
      "cell_type": "code",
      "execution_count": null,
      "metadata": {
        "colab": {
          "base_uri": "https://localhost:8080/"
        },
        "id": "RcesZeb6fcr4",
        "outputId": "ef8d7ac5-cf1a-4204-a302-e96fda38b5ad"
      },
      "outputs": [
        {
          "name": "stdout",
          "output_type": "stream",
          "text": [
            "10.0\n"
          ]
        }
      ],
      "source": [
        "a=100\n",
        "sqrt=a ** 0.5\n",
        "print(sqrt)"
      ]
    },
    {
      "cell_type": "code",
      "execution_count": null,
      "metadata": {
        "colab": {
          "base_uri": "https://localhost:8080/"
        },
        "id": "sjwFm3p5h1yn",
        "outputId": "eb8f9ae0-1647-4a2a-dc0c-c073474bd5a7"
      },
      "outputs": [
        {
          "name": "stdout",
          "output_type": "stream",
          "text": [
            "49\n"
          ]
        }
      ],
      "source": [
        "a=5\n",
        "b=2\n",
        "equation=(a*a)+(b*b)+(2*a*b)\n",
        "print(equation)"
      ]
    },
    {
      "cell_type": "code",
      "execution_count": null,
      "metadata": {
        "id": "-SWOAe6NjnBZ"
      },
      "outputs": [],
      "source": []
    },
    {
      "cell_type": "markdown",
      "metadata": {
        "id": "sfMU_T32G6iT"
      },
      "source": [
        "**Data types**"
      ]
    },
    {
      "cell_type": "code",
      "execution_count": null,
      "metadata": {
        "colab": {
          "base_uri": "https://localhost:8080/"
        },
        "id": "5fEXC05nG-vn",
        "outputId": "76d7d270-c678-43b8-c73e-ba989367084f"
      },
      "outputs": [
        {
          "name": "stdout",
          "output_type": "stream",
          "text": [
            "<class 'str'>\n"
          ]
        }
      ],
      "source": [
        "name=\"divya\"\n",
        "print(type(name))"
      ]
    },
    {
      "cell_type": "code",
      "execution_count": null,
      "metadata": {
        "colab": {
          "base_uri": "https://localhost:8080/"
        },
        "id": "_aBuohVqHNdM",
        "outputId": "7d5b8010-0346-4732-85fc-7f4b8dff202a"
      },
      "outputs": [
        {
          "name": "stdout",
          "output_type": "stream",
          "text": [
            "<class 'str'>\n"
          ]
        }
      ],
      "source": [
        "name2=\"div & 123\"\n",
        "print(type(name2))"
      ]
    },
    {
      "cell_type": "markdown",
      "metadata": {
        "id": "7xnUNr_gOnoo"
      },
      "source": [
        "**Numeric data type**"
      ]
    },
    {
      "cell_type": "code",
      "execution_count": null,
      "metadata": {
        "colab": {
          "base_uri": "https://localhost:8080/"
        },
        "id": "-PqNcOlqO2so",
        "outputId": "80555a01-88d9-4e93-fa2b-c895283ad0b3"
      },
      "outputs": [
        {
          "name": "stdout",
          "output_type": "stream",
          "text": [
            "<class 'int'>\n",
            "<class 'float'>\n",
            "<class 'complex'>\n"
          ]
        }
      ],
      "source": [
        "num1=61\n",
        "num2=56.89\n",
        "num3=4j\n",
        "print(type(num1))\n",
        "print(type(num2))\n",
        "print(type(num3))"
      ]
    },
    {
      "cell_type": "markdown",
      "metadata": {
        "id": "xzSeCRO4PNZh"
      },
      "source": [
        "**Sequence data types**"
      ]
    },
    {
      "cell_type": "code",
      "execution_count": null,
      "metadata": {
        "colab": {
          "base_uri": "https://localhost:8080/"
        },
        "id": "hpgglbcPPUCv",
        "outputId": "ec9a2b05-4966-452e-d6fc-cdfe5e4210a6"
      },
      "outputs": [
        {
          "data": {
            "text/plain": [
              "list"
            ]
          },
          "execution_count": 2,
          "metadata": {},
          "output_type": "execute_result"
        }
      ],
      "source": [
        "lis=['div','123','30.45']\n",
        "type(lis)"
      ]
    },
    {
      "cell_type": "code",
      "execution_count": null,
      "metadata": {
        "colab": {
          "base_uri": "https://localhost:8080/"
        },
        "id": "Akl0nIXbHWmk",
        "outputId": "c841c146-bb46-4b7a-dfd0-e4bb5e568a31"
      },
      "outputs": [
        {
          "name": "stdout",
          "output_type": "stream",
          "text": [
            "['div', '123', '30.45']\n"
          ]
        }
      ],
      "source": [
        "print(lis)"
      ]
    },
    {
      "cell_type": "code",
      "execution_count": null,
      "metadata": {
        "id": "1e3SUOWjRomp"
      },
      "outputs": [],
      "source": []
    },
    {
      "cell_type": "code",
      "execution_count": null,
      "metadata": {
        "colab": {
          "base_uri": "https://localhost:8080/"
        },
        "id": "lXf3I47fPhvh",
        "outputId": "0bc16262-490b-48e7-dfcf-b432648697ea"
      },
      "outputs": [
        {
          "name": "stdout",
          "output_type": "stream",
          "text": [
            "3\n",
            "3\n",
            "['div', '123', '30.45', 'apple', '200', 'India']\n",
            "6\n"
          ]
        }
      ],
      "source": [
        "lis2=['apple','200','India']\n",
        "print(len(lis))\n",
        "print(len(lis2))\n",
        "lis3=lis+lis2\n",
        "print(lis3)\n",
        "print(len(lis3))"
      ]
    },
    {
      "cell_type": "code",
      "execution_count": null,
      "metadata": {
        "id": "3E6wtfaeQ8c2"
      },
      "outputs": [],
      "source": []
    },
    {
      "cell_type": "markdown",
      "metadata": {
        "id": "W14be-6pRiMx"
      },
      "source": [
        "**Tuple**"
      ]
    },
    {
      "cell_type": "code",
      "execution_count": null,
      "metadata": {
        "colab": {
          "base_uri": "https://localhost:8080/"
        },
        "id": "daEZKdf6RmpM",
        "outputId": "a884e7f6-7516-4bb4-b48d-189e9c0a537f"
      },
      "outputs": [
        {
          "name": "stdout",
          "output_type": "stream",
          "text": [
            "<class 'tuple'>\n",
            "<class 'tuple'>\n"
          ]
        }
      ],
      "source": [
        "tuple1=(\"hubli\",\"belgaum\",\"hubli\")\n",
        "print(type(tuple1))\n",
        "tuple2=(\"hubli\",)\n",
        "print(type(tuple2))"
      ]
    },
    {
      "cell_type": "code",
      "execution_count": null,
      "metadata": {
        "colab": {
          "base_uri": "https://localhost:8080/"
        },
        "id": "9i8hGD3VR_Pq",
        "outputId": "486af157-81cf-476e-e729-cefcdbbd9d08"
      },
      "outputs": [
        {
          "name": "stdout",
          "output_type": "stream",
          "text": [
            "<class 'tuple'>\n",
            "<class 'tuple'>\n"
          ]
        }
      ],
      "source": [
        "tuple3=(1,2,3,4,5)\n",
        "print(type(tuple3))\n",
        "tuple4=(\"asdf\",\"123\",1,2,3,4,5,True)\n",
        "print(type(tuple4))"
      ]
    },
    {
      "cell_type": "code",
      "execution_count": null,
      "metadata": {
        "colab": {
          "base_uri": "https://localhost:8080/"
        },
        "id": "HvCcsNkNSXbp",
        "outputId": "8db297d0-3b67-4af1-9728-4563d5214b44"
      },
      "outputs": [
        {
          "name": "stdout",
          "output_type": "stream",
          "text": [
            "tuple[0]\n",
            "tuple[1]\n",
            "tuple[2]\n"
          ]
        }
      ],
      "source": [
        "tuple1=(\"hubli\",\"belgaum\",\"hubli\")\n",
        "print(tuple[0])\n",
        "print(tuple[1])\n",
        "print(tuple[2])"
      ]
    },
    {
      "cell_type": "code",
      "execution_count": null,
      "metadata": {
        "colab": {
          "base_uri": "https://localhost:8080/"
        },
        "id": "vLuF5qf5TuwN",
        "outputId": "dedbe655-d7c1-4d5e-8229-9a1d4e5fd947"
      },
      "outputs": [
        {
          "name": "stdout",
          "output_type": "stream",
          "text": [
            "hubli\n",
            "belgaum\n",
            "hubli\n"
          ]
        }
      ],
      "source": [
        "tuple1=(\"hubli\",\"belgaum\",\"hubli\")\n",
        "print(tuple1[0])\n",
        "print(tuple1[1])\n",
        "print(tuple1[2])"
      ]
    },
    {
      "cell_type": "code",
      "execution_count": null,
      "metadata": {
        "colab": {
          "base_uri": "https://localhost:8080/"
        },
        "id": "De3AMOmBT02n",
        "outputId": "cb84e0a0-0238-4ba6-a6e2-5ae3189963c8"
      },
      "outputs": [
        {
          "name": "stdout",
          "output_type": "stream",
          "text": [
            "hubli\n",
            "belgaum\n",
            "hubli\n",
            "hubli\n",
            "('hubli', 'belgaum', 'hubli', 'hubli', 'belgaum', 'hubli')\n",
            "('hubli', 'belgaum', 'hubli', 'hubli', 'belgaum', 'hubli', 'hubli', 'belgaum', 'hubli', 'hubli', 'belgaum', 'hubli')\n",
            "8\n"
          ]
        }
      ],
      "source": [
        "tuple1=(\"hubli\",\"belgaum\",\"hubli\")\n",
        "print(tuple1[0])\n",
        "print(tuple1[1])\n",
        "print(tuple1[2])\n",
        "print(tuple1[-1])\n",
        "tuple6=tuple1+tuple1\n",
        "print(tuple6)\n",
        "tuple7=tuple6 * 2\n",
        "print(tuple7)\n",
        "x=tuple7.count('hubli')\n",
        "print(x)"
      ]
    },
    {
      "cell_type": "code",
      "execution_count": null,
      "metadata": {
        "id": "_7UKhFjNVDWM"
      },
      "outputs": [],
      "source": []
    },
    {
      "cell_type": "markdown",
      "metadata": {
        "id": "sMbRxIjHXJOj"
      },
      "source": [
        "**Type casting**"
      ]
    },
    {
      "cell_type": "code",
      "execution_count": null,
      "metadata": {
        "id": "ch8FIrhrXOEQ"
      },
      "outputs": [],
      "source": []
    },
    {
      "cell_type": "code",
      "execution_count": null,
      "metadata": {
        "colab": {
          "base_uri": "https://localhost:8080/"
        },
        "id": "rJDxgGiVXPDm",
        "outputId": "3a2aee63-f07a-400f-b63d-44a20eb9e868"
      },
      "outputs": [
        {
          "name": "stdout",
          "output_type": "stream",
          "text": [
            "<class 'tuple'>\n"
          ]
        }
      ],
      "source": [
        "x=(\"hubli\",\"belgaum\",\"blore\")\n",
        "print(type(x))"
      ]
    },
    {
      "cell_type": "code",
      "execution_count": null,
      "metadata": {
        "colab": {
          "base_uri": "https://localhost:8080/"
        },
        "id": "1HXYawjLXbtn",
        "outputId": "614bf142-6424-454c-9500-5f3507c512a7"
      },
      "outputs": [
        {
          "name": "stdout",
          "output_type": "stream",
          "text": [
            "('hubli', 'belgaum', 'mumbai')\n"
          ]
        }
      ],
      "source": [
        "y=list(x)\n",
        "y[2]=\"mumbai\"\n",
        "x=tuple(y)\n",
        "print(x)"
      ]
    },
    {
      "cell_type": "code",
      "execution_count": null,
      "metadata": {
        "id": "c_sSx8aMXroY"
      },
      "outputs": [],
      "source": []
    },
    {
      "cell_type": "markdown",
      "metadata": {
        "id": "sPAS2IRVYkOg"
      },
      "source": [
        "**Sets**"
      ]
    },
    {
      "cell_type": "code",
      "execution_count": null,
      "metadata": {
        "colab": {
          "base_uri": "https://localhost:8080/"
        },
        "id": "65TyegO-Ynzw",
        "outputId": "e5a85651-faad-41f7-8009-4d37a7e61352"
      },
      "outputs": [
        {
          "name": "stdout",
          "output_type": "stream",
          "text": [
            "{'blue', 'black', 'red'}\n",
            "{'blue', 'black', 'orange', 'red'}\n",
            "{'orange', 'ball', 'bat', 'blue', 'black', 'wicket', 'red'}\n"
          ]
        }
      ],
      "source": [
        "set1={\"red\",\"blue\",\"black\"}\n",
        "print(set1)\n",
        "set1.add('orange')\n",
        "print(set1)\n",
        "set2={\"ball\",\"bat\",\"wicket\"}\n",
        "set1.update(set2)\n",
        "print(set1)"
      ]
    },
    {
      "cell_type": "code",
      "execution_count": null,
      "metadata": {
        "colab": {
          "base_uri": "https://localhost:8080/"
        },
        "id": "-J-Ik-5JZPVG",
        "outputId": "1b1e1faf-1f18-4d0d-dcdc-90e901e3e2d0"
      },
      "outputs": [
        {
          "name": "stdout",
          "output_type": "stream",
          "text": [
            "{'name': 'divya', 'age': '20', 'gender': 'female', 'year': '2015'}\n"
          ]
        }
      ],
      "source": [
        "dict1={\"name\":\"divya\",\n",
        "       \"age\":\"20\",\"gender\":\"female\",\"year\":\"2003\",\"year\":\"2015\"}\n",
        "print(dict1)"
      ]
    },
    {
      "cell_type": "code",
      "execution_count": null,
      "metadata": {
        "colab": {
          "base_uri": "https://localhost:8080/"
        },
        "id": "s4rtiX_pq-Ct",
        "outputId": "6f98f717-1756-437d-9d4f-6885718a29a9"
      },
      "outputs": [
        {
          "name": "stdout",
          "output_type": "stream",
          "text": [
            "<class 'dict'>\n"
          ]
        }
      ],
      "source": [
        "print(type(dict1))"
      ]
    },
    {
      "cell_type": "code",
      "execution_count": null,
      "metadata": {
        "colab": {
          "base_uri": "https://localhost:8080/"
        },
        "id": "a86vSNUHr0yW",
        "outputId": "2bf75d83-1740-469b-df22-5043b0d422f1"
      },
      "outputs": [
        {
          "name": "stdout",
          "output_type": "stream",
          "text": [
            "{'fruit': 'banana', 'dessert': 'ice'}\n",
            "<class 'dict'>\n"
          ]
        }
      ],
      "source": [
        "dict2=dict(fruit=\"banana\", dessert=\"ice\")\n",
        "print(dict2)\n",
        "print(type(dict2))"
      ]
    },
    {
      "cell_type": "markdown",
      "metadata": {
        "id": "C97Eat8Hu0iG"
      },
      "source": [
        "**Conditional statements**"
      ]
    },
    {
      "cell_type": "code",
      "execution_count": null,
      "metadata": {
        "id": "vDLVReE9syIp"
      },
      "outputs": [],
      "source": []
    },
    {
      "cell_type": "code",
      "execution_count": null,
      "metadata": {
        "colab": {
          "base_uri": "https://localhost:8080/"
        },
        "id": "cqXlU2khu6YH",
        "outputId": "bcc93fa6-c216-4150-ffb7-481bec84b478"
      },
      "outputs": [
        {
          "name": "stdout",
          "output_type": "stream",
          "text": [
            "enter the value of a1\n",
            "enter the value of b3\n",
            "1\n",
            "3\n"
          ]
        }
      ],
      "source": [
        "a=input(\"enter the value of a\")\n",
        "b=input(\"enter the value of b\")\n",
        "print(a)\n",
        "print(b)"
      ]
    },
    {
      "cell_type": "code",
      "execution_count": null,
      "metadata": {
        "colab": {
          "base_uri": "https://localhost:8080/"
        },
        "id": "n385cN4dvG4x",
        "outputId": "559d24ff-400f-47bd-ad5d-6cec840475f1"
      },
      "outputs": [
        {
          "name": "stdout",
          "output_type": "stream",
          "text": [
            "hello\n"
          ]
        }
      ],
      "source": [
        "if a>b:\n",
        "  print(\"the value of a is gerater than b\")\n",
        "#if a==b:\n",
        " # print(\"both a and b are same\")\n",
        "else:\n",
        " print(\"hello\")"
      ]
    },
    {
      "cell_type": "code",
      "execution_count": null,
      "metadata": {
        "colab": {
          "base_uri": "https://localhost:8080/"
        },
        "id": "7O_3JZWPwPVp",
        "outputId": "b9130ef6-3e31-4286-836d-45ee1fa5376a"
      },
      "outputs": [
        {
          "name": "stdout",
          "output_type": "stream",
          "text": [
            "please pick a ballwhite\n",
            "white ball is picked\n"
          ]
        }
      ],
      "source": [
        "ball1_colour=\"green\"\n",
        "ball2_colour=\"blue\"\n",
        "ball3_colour=\"red\"\n",
        "ball4_colour=\"white\"\n",
        "\n",
        "pick_ball=input(\"please pick a ball\")\n",
        "\n",
        "if pick_ball == ball1_colour:\n",
        "  print(\"green ball is picked\")\n",
        "elif pick_ball == ball2_colour:\n",
        "  print(\"blue ball is picked\")\n",
        "elif pick_ball == ball3_colour:\n",
        "  print(\"red  ball is picked\")\n",
        "else:\n",
        "  print(\"white ball is picked\")\n"
      ]
    },
    {
      "cell_type": "markdown",
      "metadata": {
        "id": "45rNceWk1tre"
      },
      "source": [
        "**Python operators arithmetic operators**"
      ]
    },
    {
      "cell_type": "code",
      "execution_count": null,
      "metadata": {
        "colab": {
          "base_uri": "https://localhost:8080/"
        },
        "id": "v7VHWEcfy5Cg",
        "outputId": "b482a7d4-9add-4ec2-b098-ef429d9b5c4b"
      },
      "outputs": [
        {
          "name": "stdout",
          "output_type": "stream",
          "text": [
            "16\n",
            "8\n",
            "48\n",
            "3.0\n",
            "3\n",
            "0\n",
            "20736\n"
          ]
        }
      ],
      "source": [
        "x=12\n",
        "y=4\n",
        "\n",
        "sum=x+y\n",
        "diff=x-y\n",
        "prod=x*y\n",
        "div=x/y\n",
        "fdiv=x//y\n",
        "mod=x%y\n",
        "power=x**y\n",
        "print(sum)\n",
        "print(diff)\n",
        "print(prod)\n",
        "print(div)\n",
        "print(fdiv)\n",
        "print(mod)\n",
        "print(power)"
      ]
    },
    {
      "cell_type": "code",
      "execution_count": null,
      "metadata": {
        "colab": {
          "base_uri": "https://localhost:8080/"
        },
        "id": "pkN0jPAw2cJ3",
        "outputId": "c1c485d5-5ede-4617-f303-6fd6e5f52efb"
      },
      "outputs": [
        {
          "name": "stdout",
          "output_type": "stream",
          "text": [
            "enter the age28\n",
            "True\n",
            "<class 'int'>\n"
          ]
        }
      ],
      "source": [
        "age=int(input(\"enter the age\"))\n",
        "print(age>18 and age<60)\n",
        "print(type(age))"
      ]
    },
    {
      "cell_type": "code",
      "execution_count": null,
      "metadata": {
        "colab": {
          "base_uri": "https://localhost:8080/"
        },
        "id": "XtfoDGyF6HmQ",
        "outputId": "0d5ec280-a982-408f-db2a-93dc1b059dda"
      },
      "outputs": [
        {
          "name": "stdout",
          "output_type": "stream",
          "text": [
            "enter the age28\n",
            "True\n",
            "True\n",
            "<class 'int'>\n"
          ]
        }
      ],
      "source": [
        "age=int(input(\"enter the age\"))\n",
        "print(age>18 and age<60)\n",
        "print(age>18 or age<21)\n",
        "print(type(age))"
      ]
    },
    {
      "cell_type": "code",
      "execution_count": null,
      "metadata": {
        "id": "MY4MbE-G7iSA"
      },
      "outputs": [],
      "source": []
    },
    {
      "cell_type": "code",
      "execution_count": null,
      "metadata": {
        "colab": {
          "base_uri": "https://localhost:8080/"
        },
        "id": "ewNI4-eoBcfO",
        "outputId": "cd772cae-b511-4ae8-db56-e08acbde7a9c"
      },
      "outputs": [
        {
          "name": "stdout",
          "output_type": "stream",
          "text": [
            "8\n",
            "14\n"
          ]
        }
      ],
      "source": [
        "print(8 & 12)\n",
        "print(0xF & 0xE)\n"
      ]
    },
    {
      "cell_type": "code",
      "execution_count": null,
      "metadata": {
        "colab": {
          "base_uri": "https://localhost:8080/"
        },
        "id": "R0Xz76x0lnp5",
        "outputId": "6dae95a3-9ed0-4525-e612-3d1b918749b3"
      },
      "outputs": [
        {
          "name": "stdout",
          "output_type": "stream",
          "text": [
            "12\n",
            "15\n"
          ]
        }
      ],
      "source": [
        "print(8 | 12)\n",
        "print(0xF | 0xE)\n"
      ]
    },
    {
      "cell_type": "code",
      "execution_count": null,
      "metadata": {
        "colab": {
          "base_uri": "https://localhost:8080/"
        },
        "id": "6v4S2czUmH5s",
        "outputId": "64b901d7-a02a-4700-a978-136e42f3b973"
      },
      "outputs": [
        {
          "name": "stdout",
          "output_type": "stream",
          "text": [
            "4\n",
            "1\n"
          ]
        }
      ],
      "source": [
        "print(8 ^ 12)\n",
        "print(0xF ^ 0xE)\n"
      ]
    },
    {
      "cell_type": "code",
      "execution_count": null,
      "metadata": {
        "colab": {
          "base_uri": "https://localhost:8080/"
        },
        "id": "q7fImXlUmMmj",
        "outputId": "71fb52f9-6ec6-42a0-807e-c0643fe0d7da"
      },
      "outputs": [
        {
          "name": "stdout",
          "output_type": "stream",
          "text": [
            "8\n",
            "11\n",
            "5\n",
            "30\n",
            "5.0\n",
            "5.0\n"
          ]
        }
      ],
      "source": [
        "a=8\n",
        "print(a)\n",
        "a+=3\n",
        "print(a)\n",
        "a-=6\n",
        "print(a)\n",
        "a*=6\n",
        "print(a)\n",
        "a/=6\n",
        "print(a)\n",
        "a%=6\n",
        "print(a)\n"
      ]
    },
    {
      "cell_type": "code",
      "execution_count": null,
      "metadata": {
        "colab": {
          "base_uri": "https://localhost:8080/"
        },
        "id": "9AJmitNyqTjo",
        "outputId": "0b473ff4-0b2d-4553-ded2-aea1b5c1c44e"
      },
      "outputs": [
        {
          "name": "stdout",
          "output_type": "stream",
          "text": [
            "True\n",
            "False\n",
            "True\n"
          ]
        }
      ],
      "source": [
        "x=[\"hubli\",\"belgaum\"]\n",
        "y=[\"hubli\",\"belgaum\"]\n",
        "z=x\n",
        "z=y\n",
        "print(z is  not x)\n",
        "print(y is x)\n",
        "print(y is z)"
      ]
    },
    {
      "cell_type": "code",
      "execution_count": null,
      "metadata": {
        "colab": {
          "base_uri": "https://localhost:8080/"
        },
        "id": "8R_l4zV4ti3J",
        "outputId": "353f5552-ad97-45f9-cce5-714af6ebb488"
      },
      "outputs": [
        {
          "name": "stdout",
          "output_type": "stream",
          "text": [
            "True\n",
            "False\n",
            "True\n",
            "True\n"
          ]
        }
      ],
      "source": [
        "x=[\"hubli\",\"belgaum\"]\n",
        "y=[\"hubli\",\"belgaum\"]\n",
        "z=x\n",
        "z=y\n",
        "print(z is  not x)\n",
        "print(y is x)\n",
        "print(y is z)\n",
        "print(\"hubli\" in x)"
      ]
    },
    {
      "cell_type": "code",
      "execution_count": null,
      "metadata": {
        "id": "Yc8oFyOFuLrG"
      },
      "outputs": [],
      "source": []
    },
    {
      "cell_type": "markdown",
      "metadata": {
        "id": "kLNrtezKvanX"
      },
      "source": [
        "**While loop operation**"
      ]
    },
    {
      "cell_type": "code",
      "execution_count": null,
      "metadata": {
        "colab": {
          "base_uri": "https://localhost:8080/"
        },
        "id": "1DNICtQ4vfLv",
        "outputId": "1dfd67a5-71f2-4ddf-f1b1-23e46e2b6eb5"
      },
      "outputs": [
        {
          "name": "stdout",
          "output_type": "stream",
          "text": [
            "enter the number999\n",
            "number has more than two digit\n"
          ]
        }
      ],
      "source": [
        "num=int(input(\"enter the number\"))\n",
        "while num<=9:\n",
        "  print(\"number is single digit\")\n",
        "  break\n",
        "while num>9 and num<=99:\n",
        "  print(\"number is double digit\")\n",
        "  break\n",
        "else:\n",
        "  print(\"number has more than two digit\")"
      ]
    },
    {
      "cell_type": "code",
      "execution_count": null,
      "metadata": {
        "id": "MftGQIOWxG0u"
      },
      "outputs": [],
      "source": []
    },
    {
      "cell_type": "markdown",
      "metadata": {
        "id": "GCIGSXDmxvDn"
      },
      "source": [
        "**For loop operation**"
      ]
    },
    {
      "cell_type": "code",
      "execution_count": null,
      "metadata": {
        "colab": {
          "base_uri": "https://localhost:8080/"
        },
        "id": "jXo3pcFTxy4d",
        "outputId": "af00fbfd-9f12-47e6-b733-a41c83317f9c"
      },
      "outputs": [
        {
          "name": "stdout",
          "output_type": "stream",
          "text": [
            "1\n",
            "4\n",
            "7\n",
            "10\n",
            "13\n",
            "16\n",
            "19\n"
          ]
        }
      ],
      "source": [
        "for x in range(1,20,3):\n",
        "  print(x)"
      ]
    },
    {
      "cell_type": "code",
      "execution_count": null,
      "metadata": {
        "colab": {
          "base_uri": "https://localhost:8080/"
        },
        "id": "bCvpCuiIx56i",
        "outputId": "a7f28e17-63d6-4556-d5b4-c261fee17206"
      },
      "outputs": [
        {
          "name": "stdout",
          "output_type": "stream",
          "text": [
            "single digit number\n",
            "single digit number\n",
            "single digit number\n",
            "single digit number\n",
            "double digit number\n",
            "double digit number\n",
            "double digit number\n",
            "double digit number\n",
            "double digit number\n",
            "double digit number\n",
            "double digit number\n",
            "double digit number\n",
            "double digit number\n",
            "double digit number\n"
          ]
        }
      ],
      "source": [
        "for x in range(5,9):\n",
        "  print(\"single digit number\")\n",
        "for x in range(0,99,10):\n",
        " print(\"double digit number\")"
      ]
    },
    {
      "cell_type": "code",
      "execution_count": null,
      "metadata": {
        "colab": {
          "base_uri": "https://localhost:8080/"
        },
        "id": "Wn-kJBm1zSXV",
        "outputId": "b21da2e0-9a62-4e81-a844-51e5a735f17e"
      },
      "outputs": [
        {
          "name": "stdout",
          "output_type": "stream",
          "text": [
            "hubli\n",
            "haveri\n",
            "belgaum\n",
            "found\n"
          ]
        }
      ],
      "source": [
        "places=[\"hubli\",\"haveri\",\"belgaum\",\"banglore\"]\n",
        "for x in places:\n",
        "  print(x)\n",
        "  if x==\"belgaum\":\n",
        "    print(\"found\")\n",
        "    break"
      ]
    },
    {
      "cell_type": "code",
      "execution_count": null,
      "metadata": {
        "id": "q1IfikP40U79"
      },
      "outputs": [],
      "source": []
    },
    {
      "cell_type": "markdown",
      "metadata": {
        "id": "dSxsc5k0Dj7b"
      },
      "source": [
        "***Functions***\n",
        "1.Define the function\n",
        "2.Invoking the function\n",
        "3.Passing the function"
      ]
    },
    {
      "cell_type": "code",
      "execution_count": null,
      "metadata": {
        "colab": {
          "base_uri": "https://localhost:8080/"
        },
        "id": "fbK9MxaIDwr8",
        "outputId": "252e05c2-6532-43d2-ac18-62547b66a733"
      },
      "outputs": [
        {
          "name": "stdout",
          "output_type": "stream",
          "text": [
            "No of pieces = 5\n",
            "flavor is= choclate\n",
            "size is= 2kg\n",
            "No of pieces = 100\n",
            "flavor is= vanilla\n",
            "size is= 3kg\n"
          ]
        }
      ],
      "source": [
        "def cake_baker(p,f,s):\n",
        "  print(\"No of pieces =\",p)\n",
        "  print(\"flavor is=\",f)\n",
        "  print(\"size is=\",s)\n",
        "cake_baker(\"5\",\"choclate\",\"2kg\")\n",
        "cake_baker(\"100\",\"vanilla\",\"3kg\")"
      ]
    },
    {
      "cell_type": "markdown",
      "metadata": {
        "id": "ZG0pbgSxIQYf"
      },
      "source": [
        "**Args**"
      ]
    },
    {
      "cell_type": "code",
      "execution_count": null,
      "metadata": {
        "colab": {
          "base_uri": "https://localhost:8080/"
        },
        "id": "kg2UTEU0ECtR",
        "outputId": "bedded85-39c9-43a6-d999-94a0180951ff"
      },
      "outputs": [
        {
          "name": "stdout",
          "output_type": "stream",
          "text": [
            "15\n"
          ]
        }
      ],
      "source": [
        "def add(*args):\n",
        "  sum=0\n",
        "  for i in args:\n",
        "    sum+=i\n",
        "  return sum\n",
        "print(add(1,2,3,4,5))\n"
      ]
    },
    {
      "cell_type": "code",
      "execution_count": null,
      "metadata": {
        "colab": {
          "base_uri": "https://localhost:8080/"
        },
        "id": "DrpKqxFCImMN",
        "outputId": "38b18d8e-1e6d-4a14-eab2-08ca89483cf4"
      },
      "outputs": [
        {
          "name": "stdout",
          "output_type": "stream",
          "text": [
            "hello\n",
            "divya\n",
            "01fe21bec013\n",
            "enc\n"
          ]
        }
      ],
      "source": [
        "def greet(**kwargs):\n",
        "  print(\"hello\")\n",
        "  for key,value in kwargs.items():\n",
        "    print(value)\n",
        "greet(name=\"divya\",usn=\"01fe21bec013\",branch=\"enc\")"
      ]
    },
    {
      "cell_type": "code",
      "execution_count": null,
      "metadata": {
        "colab": {
          "base_uri": "https://localhost:8080/"
        },
        "id": "xXKEZzuNKLv7",
        "outputId": "17031cf3-4652-4a7c-f3b1-403f6ec5c1e0"
      },
      "outputs": [
        {
          "name": "stdout",
          "output_type": "stream",
          "text": [
            "hello\n",
            "divya 01fe21bec013 enc "
          ]
        }
      ],
      "source": [
        "def greet(**kwargs):\n",
        "  print(\"hello\")\n",
        "  for key,value in kwargs.items():\n",
        "    print(value,end=\" \")\n",
        "greet(name=\"divya\",usn=\"01fe21bec013\",branch=\"enc\")"
      ]
    },
    {
      "cell_type": "code",
      "execution_count": null,
      "metadata": {
        "colab": {
          "base_uri": "https://localhost:8080/"
        },
        "id": "vhRojI4UK8kc",
        "outputId": "72d2103f-9fb8-45c0-a305-4017178f6eff"
      },
      "outputs": [
        {
          "name": "stdout",
          "output_type": "stream",
          "text": [
            "6\n",
            "0.7928442330062258\n"
          ]
        }
      ],
      "source": [
        "import random\n",
        "x=random.randint(1,9)\n",
        "print(x)\n",
        "a=random.random()\n",
        "print(a)"
      ]
    },
    {
      "cell_type": "code",
      "execution_count": null,
      "metadata": {
        "colab": {
          "base_uri": "https://localhost:8080/"
        },
        "id": "3usU2lutLZhF",
        "outputId": "9555712c-a5ba-4f95-8a33-71bb31519b00"
      },
      "outputs": [
        {
          "name": "stdout",
          "output_type": "stream",
          "text": [
            "enter the number between 1 and 91\n",
            "4\n",
            "1\n",
            "computer won\n"
          ]
        }
      ],
      "source": [
        "import random\n",
        "\n",
        "computer=random.randint(1,9)\n",
        "userinput=int(input(\"enter the number between 1 and 9\"))\n",
        "print(computer)\n",
        "print(userinput)\n",
        "\n",
        "if computer>userinput:\n",
        "  print(\"computer won\")\n",
        "elif computer==userinput:\n",
        "  print(\"TIE\")\n",
        "else:\n",
        "  print(\"you won\")"
      ]
    },
    {
      "cell_type": "code",
      "execution_count": null,
      "metadata": {
        "colab": {
          "base_uri": "https://localhost:8080/"
        },
        "id": "EbTYM-hqNVYP",
        "outputId": "1772671e-720f-433d-fc77-ed19054cde1d"
      },
      "outputs": [
        {
          "name": "stdout",
          "output_type": "stream",
          "text": [
            "enter either rock or paper or scissors rock\n",
            "scissors\n",
            "rock\n",
            "tie\n"
          ]
        }
      ],
      "source": [
        "import random\n",
        "\n",
        "gamelist=['rock','paper','scissors']\n",
        "comp=random.choice(gamelist)\n",
        "user=input(\"enter either rock or paper or scissors \")\n",
        "print(comp)\n",
        "print(user)\n",
        "\n",
        "if (comp==\"rock\" and user==\"paper\"):\n",
        "  print(\"computer won\")\n",
        "elif (comp==\"paper\" and user==\"scissors\"):\n",
        "  print(\"you won\")\n",
        "elif(comp==\"scissors\" and user==\"paper\"):\n",
        "  print(\"computer won\")\n",
        "else:\n",
        "   print(\"tie\")\n",
        "\n"
      ]
    },
    {
      "cell_type": "code",
      "execution_count": null,
      "metadata": {
        "id": "_hlpuSgMP89L"
      },
      "outputs": [],
      "source": []
    },
    {
      "cell_type": "markdown",
      "metadata": {
        "id": "xaY5h4CNQdfx"
      },
      "source": [
        "**Numpy-Numerical python**"
      ]
    },
    {
      "cell_type": "code",
      "execution_count": null,
      "metadata": {
        "id": "reFKk1CQQo7P"
      },
      "outputs": [],
      "source": [
        "import numpy as np\n"
      ]
    },
    {
      "cell_type": "code",
      "execution_count": null,
      "metadata": {
        "colab": {
          "base_uri": "https://localhost:8080/"
        },
        "id": "pXIAcPL6x7-S",
        "outputId": "aef738c1-850e-4139-8531-36186a138fe4"
      },
      "outputs": [
        {
          "name": "stdout",
          "output_type": "stream",
          "text": [
            "<class 'numpy.ndarray'>\n",
            "[0. 0. 0.]\n",
            "[1. 1. 1. 1.]\n",
            "[ 1 27 34 35 36 48 49]\n"
          ]
        }
      ],
      "source": [
        "a=np.array([35,1,34,36,27,48,49])\n",
        "print(type(a))\n",
        "b=np.zeros(3)\n",
        "c=np.ones(4)\n",
        "print(b)\n",
        "print(c)\n",
        "d=np.sort(a)\n",
        "print(d)"
      ]
    },
    {
      "cell_type": "markdown",
      "metadata": {
        "id": "wiz-fMVazixd"
      },
      "source": [
        "**Matplotlib**"
      ]
    },
    {
      "cell_type": "code",
      "execution_count": null,
      "metadata": {
        "colab": {
          "base_uri": "https://localhost:8080/"
        },
        "id": "AQktP1eJyM8G",
        "outputId": "a9111113-3c86-4d66-f705-95539a7d2036"
      },
      "outputs": [
        {
          "name": "stdout",
          "output_type": "stream",
          "text": [
            "3.7.1\n"
          ]
        }
      ],
      "source": [
        "import matplotlib\n",
        "print(matplotlib.__version__)"
      ]
    },
    {
      "cell_type": "code",
      "execution_count": null,
      "metadata": {
        "colab": {
          "base_uri": "https://localhost:8080/",
          "height": 430
        },
        "id": "sgzktKjOz8R2",
        "outputId": "d80ef228-a2d0-4b17-96b4-d9c3b8308379"
      },
      "outputs": [
        {
          "data": {
            "image/png": "[encoded data removed]",
            "text/plain": [
              "<Figure size 640x480 with 1 Axes>"
            ]
          },
          "metadata": {},
          "output_type": "display_data"
        }
      ],
      "source": [
        "import matplotlib.pyplot as plt\n",
        "import numpy as np\n",
        "x=np.linspace(0,1,10)\n",
        "m=25\n",
        "c=250\n",
        "y=m*x+c\n",
        "plt.plot(x,y)\n",
        "plt.show()\n"
      ]
    },
    {
      "cell_type": "code",
      "execution_count": null,
      "metadata": {
        "colab": {
          "base_uri": "https://localhost:8080/",
          "height": 663
        },
        "id": "XEmSr5QB1ZO5",
        "outputId": "828ffdd7-8c46-4907-abba-5a8df2690b7f"
      },
      "outputs": [
        {
          "ename": "TypeError",
          "evalue": "ignored",
          "output_type": "error",
          "traceback": [
            "\u001b[0;31m---------------------------------------------------------------------------\u001b[0m",
            "\u001b[0;31mTypeError\u001b[0m                                 Traceback (most recent call last)",
            "\u001b[0;32m<ipython-input-44-b816675be7ea>\u001b[0m in \u001b[0;36m<cell line: 8>\u001b[0;34m()\u001b[0m\n\u001b[1;32m      6\u001b[0m \u001b[0my\u001b[0m\u001b[0;34m=\u001b[0m\u001b[0mnp\u001b[0m\u001b[0;34m.\u001b[0m\u001b[0msin\u001b[0m\u001b[0;34m(\u001b[0m\u001b[0;36m2\u001b[0m\u001b[0;34m*\u001b[0m\u001b[0mx\u001b[0m\u001b[0;34m)\u001b[0m\u001b[0;34m\u001b[0m\u001b[0;34m\u001b[0m\u001b[0m\n\u001b[1;32m      7\u001b[0m \u001b[0;34m\u001b[0m\u001b[0m\n\u001b[0;32m----> 8\u001b[0;31m \u001b[0mfig\u001b[0m\u001b[0;34m,\u001b[0m \u001b[0ma\u001b[0m\u001b[0;34m=\u001b[0m\u001b[0mplt\u001b[0m\u001b[0;34m.\u001b[0m\u001b[0msubplot\u001b[0m\u001b[0;34m(\u001b[0m\u001b[0;34m)\u001b[0m\u001b[0;34m\u001b[0m\u001b[0;34m\u001b[0m\u001b[0m\n\u001b[0m\u001b[1;32m      9\u001b[0m \u001b[0ma\u001b[0m\u001b[0;34m=\u001b[0m\u001b[0mplot\u001b[0m\u001b[0;34m(\u001b[0m\u001b[0mx\u001b[0m\u001b[0;34m,\u001b[0m \u001b[0my\u001b[0m\u001b[0;34m,\u001b[0m \u001b[0mlinewidth\u001b[0m\u001b[0;34m=\u001b[0m\u001b[0;36m2.0\u001b[0m\u001b[0;34m)\u001b[0m\u001b[0;34m\u001b[0m\u001b[0;34m\u001b[0m\u001b[0m\n\u001b[1;32m     10\u001b[0m \u001b[0;34m\u001b[0m\u001b[0m\n",
            "\u001b[0;31mTypeError\u001b[0m: cannot unpack non-iterable Axes object"
          ]
        },
        {
          "data": {
            "image/png": "[encoded data removed]",
            "text/plain": [
              "<Figure size 640x480 with 1 Axes>"
            ]
          },
          "metadata": {},
          "output_type": "display_data"
        }
      ],
      "source": [
        "import matplotlib.pyplot as plt\n",
        "import numpy as np\n",
        "\n",
        "\n",
        "x=np.linspace(0,1,10)\n",
        "y=np.sin(2*x)\n",
        "\n",
        "fig, a=plt.subplot()\n",
        "a=plot(x, y, linewidth=2.0)\n",
        "\n",
        "a.set(xlim=(0, 8), xticks=np.arange(1, 8),\n",
        "          ylim=(0, 8), yticks=np.arange(1, 8))\n",
        "\n",
        "plt.show()"
      ]
    },
    {
      "cell_type": "code",
      "execution_count": null,
      "metadata": {
        "colab": {
          "base_uri": "https://localhost:8080/",
          "height": 430
        },
        "id": "f8fZxEW_21En",
        "outputId": "8ee71928-cd52-4395-fa09-debcbb1dbf57"
      },
      "outputs": [
        {
          "data": {
            "image/png": "[encoded data removed]",
            "text/plain": [
              "<Figure size 640x480 with 1 Axes>"
            ]
          },
          "metadata": {},
          "output_type": "display_data"
        }
      ],
      "source": [
        "import matplotlib.pyplot as plt\n",
        "import numpy as np\n",
        "\n",
        "temp=np.array([ 10, 20, 25, 30, 40, 50, 60, 70, 80, 90, 100, 110, 120])\n",
        "res=np.array([ 18476, 12185, 10000, 8260, 5740, 4080, 2960, 2188, 1645,1257, 973, 765,608])\n",
        "\n",
        "plt.scatter(temp, res)\n",
        "plt.show()"
      ]
    },
    {
      "cell_type": "code",
      "execution_count": null,
      "metadata": {
        "colab": {
          "base_uri": "https://localhost:8080/",
          "height": 902
        },
        "id": "ZWpsPH-OBZVU",
        "outputId": "15483efc-8f69-4d32-8c07-921df920d82b"
      },
      "outputs": [
        {
          "data": {
            "image/png": "[encoded data removed]",
            "text/plain": [
              "<Figure size 640x480 with 1 Axes>"
            ]
          },
          "metadata": {},
          "output_type": "display_data"
        },
        {
          "data": {
            "text/plain": [
              "Text(0, 0.5, 'Res')"
            ]
          },
          "execution_count": 49,
          "metadata": {},
          "output_type": "execute_result"
        },
        {
          "data": {
            "image/png": "[encoded data removed]",
            "text/plain": [
              "<Figure size 640x480 with 1 Axes>"
            ]
          },
          "metadata": {},
          "output_type": "display_data"
        }
      ],
      "source": [
        "import matplotlib.pyplot as plt\n",
        "import numpy as np\n",
        "\n",
        "Temp=np.array([ 10, 20, 25, 30, 40, 50, 60, 70, 80, 90, 100, 110, 120])\n",
        "Res=np.array([ 18476, 12185, 10000, 8260, 5740, 4080, 2960, 2188, 1645,1257, 973, 765,608])\n",
        "\n",
        "plt.plot(Temp, Res)\n",
        "plt.grid()\n",
        "plt.show()\n",
        "plt.title(\"thermistor characteristics\")\n",
        "plt.xlabel(\"Temp\")\n",
        "plt.ylabel(\"Res\")"
      ]
    },
    {
      "cell_type": "code",
      "execution_count": null,
      "metadata": {
        "colab": {
          "base_uri": "https://localhost:8080/",
          "height": 430
        },
        "id": "ZQQ4jdE6C2FF",
        "outputId": "6f0579e3-f507-4468-cd20-8e466917cadd"
      },
      "outputs": [
        {
          "data": {
            "image/png": "[encoded data removed]",
            "text/plain": [
              "<Figure size 640x480 with 1 Axes>"
            ]
          },
          "metadata": {},
          "output_type": "display_data"
        }
      ],
      "source": [
        "import matplotlib.pyplot as plt\n",
        "import numpy as np\n",
        "\n",
        "x=np.array([\"karnataka\",\"Ap\",\"Tn\",\"Tg\" ])\n",
        "y=np.array([65,68,89,86])\n",
        "\n",
        "plt.bar(x,y)\n",
        "plt.show()"
      ]
    },
    {
      "cell_type": "code",
      "execution_count": null,
      "metadata": {
        "colab": {
          "base_uri": "https://localhost:8080/",
          "height": 819
        },
        "id": "VkYFqWHFFFqD",
        "outputId": "a8258e61-6320-411a-98d6-843c5b9180d0"
      },
      "outputs": [
        {
          "data": {
            "image/png": "[encoded data removed]",
            "text/plain": [
              "<Figure size 640x480 with 1 Axes>"
            ]
          },
          "metadata": {},
          "output_type": "display_data"
        },
        {
          "data": {
            "image/png": "[encoded data removed]",
            "text/plain": [
              "<Figure size 640x480 with 1 Axes>"
            ]
          },
          "metadata": {},
          "output_type": "display_data"
        }
      ],
      "source": [
        "import matplotlib.pyplot as plt\n",
        "import numpy as np\n",
        "\n",
        "x=np.array([\"karnataka\",\"Ap\",\"Tn\",\"Tg\" ])\n",
        "y=np.array([65,68,89,86])\n",
        "\n",
        "plt.bar(x,y)\n",
        "plt.show()\n",
        "\n",
        "plt.pie(y)\n",
        "plt.show()"
      ]
    },
    {
      "cell_type": "code",
      "execution_count": null,
      "metadata": {
        "colab": {
          "base_uri": "https://localhost:8080/",
          "height": 430
        },
        "id": "oQmuhKTUFbWk",
        "outputId": "6823e96c-8150-4f11-9bc3-b8dae79bc49a"
      },
      "outputs": [
        {
          "data": {
            "image/png": "[encoded data removed]",
            "text/plain": [
              "<Figure size 640x480 with 1 Axes>"
            ]
          },
          "metadata": {},
          "output_type": "display_data"
        }
      ],
      "source": [
        "import matplotlib.pyplot as plt\n",
        "import numpy as np\n",
        "\n",
        "x=np.random.normal(5, 1, 100000)\n",
        "\n",
        "plt.hist(x,100)\n",
        "plt.show()\n"
      ]
    },
    {
      "cell_type": "markdown",
      "metadata": {
        "id": "26Q0IzozHdYm"
      },
      "source": [
        "**Pandas**"
      ]
    },
    {
      "cell_type": "markdown",
      "metadata": {
        "id": "EClPt2yzHsTZ"
      },
      "source": [
        "pandas derived from python data analysis or the word panel data"
      ]
    },
    {
      "cell_type": "code",
      "execution_count": null,
      "metadata": {
        "colab": {
          "base_uri": "https://localhost:8080/"
        },
        "id": "c6BeNVroHQd1",
        "outputId": "c5abf3c2-717f-403b-a81d-81bc94b9992b"
      },
      "outputs": [
        {
          "name": "stdout",
          "output_type": "stream",
          "text": [
            "1.5.3\n"
          ]
        }
      ],
      "source": [
        "import pandas as pd\n",
        "print(pd.__version__)"
      ]
    },
    {
      "cell_type": "code",
      "execution_count": null,
      "metadata": {
        "colab": {
          "base_uri": "https://localhost:8080/"
        },
        "id": "K3LE5ASgH9qo",
        "outputId": "b2cf4d95-7504-46dc-c6f2-9daad1e2e6ab"
      },
      "outputs": [
        {
          "name": "stdout",
          "output_type": "stream",
          "text": [
            "      longitude  latitude  housing_median_age  total_rooms  total_bedrooms  \\\n",
            "0       -122.05     37.37                27.0       3885.0           661.0   \n",
            "1       -118.30     34.26                43.0       1510.0           310.0   \n",
            "2       -117.81     33.78                27.0       3589.0           507.0   \n",
            "3       -118.36     33.82                28.0         67.0            15.0   \n",
            "4       -119.67     36.33                19.0       1241.0           244.0   \n",
            "...         ...       ...                 ...          ...             ...   \n",
            "2995    -119.86     34.42                23.0       1450.0           642.0   \n",
            "2996    -118.14     34.06                27.0       5257.0          1082.0   \n",
            "2997    -119.70     36.30                10.0        956.0           201.0   \n",
            "2998    -117.12     34.10                40.0         96.0            14.0   \n",
            "2999    -119.63     34.42                42.0       1765.0           263.0   \n",
            "\n",
            "      population  households  median_income  median_house_value  \n",
            "0         1537.0       606.0         6.6085            344700.0  \n",
            "1          809.0       277.0         3.5990            176500.0  \n",
            "2         1484.0       495.0         5.7934            270500.0  \n",
            "3           49.0        11.0         6.1359            330000.0  \n",
            "4          850.0       237.0         2.9375             81700.0  \n",
            "...          ...         ...            ...                 ...  \n",
            "2995      1258.0       607.0         1.1790            225000.0  \n",
            "2996      3496.0      1036.0         3.3906            237200.0  \n",
            "2997       693.0       220.0         2.2895             62000.0  \n",
            "2998        46.0        14.0         3.2708            162500.0  \n",
            "2999       753.0       260.0         8.5608            500001.0  \n",
            "\n",
            "[3000 rows x 9 columns]\n"
          ]
        }
      ],
      "source": [
        "import pandas as pd\n",
        "\n",
        "data=pd.read_csv('/content/sample_data/california_housing_test.csv')\n",
        "print(data)\n"
      ]
    },
    {
      "cell_type": "code",
      "execution_count": null,
      "metadata": {
        "colab": {
          "base_uri": "https://localhost:8080/",
          "height": 331
        },
        "id": "cFHSSI3MJxsX",
        "outputId": "3c5e564d-f164-4600-e287-49230f2e5102"
      },
      "outputs": [
        {
          "data": {
            "text/html": [
              "\n",
              "  <div id=\"df-0f2e8a86-1a82-4934-abb3-ffffbade0aea\" class=\"colab-df-container\">\n",
              "    <div>\n",
              "<style scoped>\n",
              "    .dataframe tbody tr th:only-of-type {\n",
              "        vertical-align: middle;\n",
              "    }\n",
              "\n",
              "    .dataframe tbody tr th {\n",
              "        vertical-align: top;\n",
              "    }\n",
              "\n",
              "    .dataframe thead th {\n",
              "        text-align: right;\n",
              "    }\n",
              "</style>\n",
              "<table border=\"1\" class=\"dataframe\">\n",
              "  <thead>\n",
              "    <tr style=\"text-align: right;\">\n",
              "      <th></th>\n",
              "      <th>longitude</th>\n",
              "      <th>latitude</th>\n",
              "      <th>housing_median_age</th>\n",
              "      <th>total_rooms</th>\n",
              "      <th>total_bedrooms</th>\n",
              "      <th>population</th>\n",
              "      <th>households</th>\n",
              "      <th>median_income</th>\n",
              "      <th>median_house_value</th>\n",
              "    </tr>\n",
              "  </thead>\n",
              "  <tbody>\n",
              "    <tr>\n",
              "      <th>longitude</th>\n",
              "      <td>1.000000</td>\n",
              "      <td>-0.925208</td>\n",
              "      <td>-0.114250</td>\n",
              "      <td>0.047010</td>\n",
              "      <td>0.071802</td>\n",
              "      <td>0.101674</td>\n",
              "      <td>0.059628</td>\n",
              "      <td>-0.015485</td>\n",
              "      <td>-0.044982</td>\n",
              "    </tr>\n",
              "    <tr>\n",
              "      <th>latitude</th>\n",
              "      <td>-0.925208</td>\n",
              "      <td>1.000000</td>\n",
              "      <td>0.016454</td>\n",
              "      <td>-0.038773</td>\n",
              "      <td>-0.069373</td>\n",
              "      <td>-0.111261</td>\n",
              "      <td>-0.074902</td>\n",
              "      <td>-0.080303</td>\n",
              "      <td>-0.144917</td>\n",
              "    </tr>\n",
              "    <tr>\n",
              "      <th>housing_median_age</th>\n",
              "      <td>-0.114250</td>\n",
              "      <td>0.016454</td>\n",
              "      <td>1.000000</td>\n",
              "      <td>-0.360984</td>\n",
              "      <td>-0.320434</td>\n",
              "      <td>-0.295890</td>\n",
              "      <td>-0.302754</td>\n",
              "      <td>-0.115932</td>\n",
              "      <td>0.106758</td>\n",
              "    </tr>\n",
              "    <tr>\n",
              "      <th>total_rooms</th>\n",
              "      <td>0.047010</td>\n",
              "      <td>-0.038773</td>\n",
              "      <td>-0.360984</td>\n",
              "      <td>1.000000</td>\n",
              "      <td>0.928403</td>\n",
              "      <td>0.860170</td>\n",
              "      <td>0.919018</td>\n",
              "      <td>0.195383</td>\n",
              "      <td>0.130991</td>\n",
              "    </tr>\n",
              "    <tr>\n",
              "      <th>total_bedrooms</th>\n",
              "      <td>0.071802</td>\n",
              "      <td>-0.069373</td>\n",
              "      <td>-0.320434</td>\n",
              "      <td>0.928403</td>\n",
              "      <td>1.000000</td>\n",
              "      <td>0.881169</td>\n",
              "      <td>0.980920</td>\n",
              "      <td>-0.013495</td>\n",
              "      <td>0.045783</td>\n",
              "    </tr>\n",
              "    <tr>\n",
              "      <th>population</th>\n",
              "      <td>0.101674</td>\n",
              "      <td>-0.111261</td>\n",
              "      <td>-0.295890</td>\n",
              "      <td>0.860170</td>\n",
              "      <td>0.881169</td>\n",
              "      <td>1.000000</td>\n",
              "      <td>0.909247</td>\n",
              "      <td>-0.000638</td>\n",
              "      <td>-0.027850</td>\n",
              "    </tr>\n",
              "    <tr>\n",
              "      <th>households</th>\n",
              "      <td>0.059628</td>\n",
              "      <td>-0.074902</td>\n",
              "      <td>-0.302754</td>\n",
              "      <td>0.919018</td>\n",
              "      <td>0.980920</td>\n",
              "      <td>0.909247</td>\n",
              "      <td>1.000000</td>\n",
              "      <td>0.007644</td>\n",
              "      <td>0.061031</td>\n",
              "    </tr>\n",
              "    <tr>\n",
              "      <th>median_income</th>\n",
              "      <td>-0.015485</td>\n",
              "      <td>-0.080303</td>\n",
              "      <td>-0.115932</td>\n",
              "      <td>0.195383</td>\n",
              "      <td>-0.013495</td>\n",
              "      <td>-0.000638</td>\n",
              "      <td>0.007644</td>\n",
              "      <td>1.000000</td>\n",
              "      <td>0.691871</td>\n",
              "    </tr>\n",
              "    <tr>\n",
              "      <th>median_house_value</th>\n",
              "      <td>-0.044982</td>\n",
              "      <td>-0.144917</td>\n",
              "      <td>0.106758</td>\n",
              "      <td>0.130991</td>\n",
              "      <td>0.045783</td>\n",
              "      <td>-0.027850</td>\n",
              "      <td>0.061031</td>\n",
              "      <td>0.691871</td>\n",
              "      <td>1.000000</td>\n",
              "    </tr>\n",
              "  </tbody>\n",
              "</table>\n",
              "</div>\n",
              "    <div class=\"colab-df-buttons\">\n",
              "\n",
              "  <div class=\"colab-df-container\">\n",
              "    <button class=\"colab-df-convert\" onclick=\"convertToInteractive('df-0f2e8a86-1a82-4934-abb3-ffffbade0aea')\"\n",
              "            title=\"Convert this dataframe to an interactive table.\"\n",
              "            style=\"display:none;\">\n",
              "\n",
              "  <svg xmlns=\"http://www.w3.org/2000/svg\" height=\"24px\" viewBox=\"0 -960 960 960\">\n",
              "    <path d=\"M120-120v-720h720v720H120Zm60-500h600v-160H180v160Zm220 220h160v-160H400v160Zm0 220h160v-160H400v160ZM180-400h160v-160H180v160Zm440 0h160v-160H620v160ZM180-180h160v-160H180v160Zm440 0h160v-160H620v160Z\"/>\n",
              "  </svg>\n",
              "    </button>\n",
              "\n",
              "  <style>\n",
              "    .colab-df-container {\n",
              "      display:flex;\n",
              "      gap: 12px;\n",
              "    }\n",
              "\n",
              "    .colab-df-convert {\n",
              "      background-color: #E8F0FE;\n",
              "      border: none;\n",
              "      border-radius: 50%;\n",
              "      cursor: pointer;\n",
              "      display: none;\n",
              "      fill: #1967D2;\n",
              "      height: 32px;\n",
              "      padding: 0 0 0 0;\n",
              "      width: 32px;\n",
              "    }\n",
              "\n",
              "    .colab-df-convert:hover {\n",
              "      background-color: #E2EBFA;\n",
              "      box-shadow: 0px 1px 2px rgba(60, 64, 67, 0.3), 0px 1px 3px 1px rgba(60, 64, 67, 0.15);\n",
              "      fill: #174EA6;\n",
              "    }\n",
              "\n",
              "    .colab-df-buttons div {\n",
              "      margin-bottom: 4px;\n",
              "    }\n",
              "\n",
              "    [theme=dark] .colab-df-convert {\n",
              "      background-color: #3B4455;\n",
              "      fill: #D2E3FC;\n",
              "    }\n",
              "\n",
              "    [theme=dark] .colab-df-convert:hover {\n",
              "      background-color: #434B5C;\n",
              "      box-shadow: 0px 1px 3px 1px rgba(0, 0, 0, 0.15);\n",
              "      filter: drop-shadow(0px 1px 2px rgba(0, 0, 0, 0.3));\n",
              "      fill: #FFFFFF;\n",
              "    }\n",
              "  </style>\n",
              "\n",
              "    <script>\n",
              "      const buttonEl =\n",
              "        document.querySelector('#df-0f2e8a86-1a82-4934-abb3-ffffbade0aea button.colab-df-convert');\n",
              "      buttonEl.style.display =\n",
              "        google.colab.kernel.accessAllowed ? 'block' : 'none';\n",
              "\n",
              "      async function convertToInteractive(key) {\n",
              "        const element = document.querySelector('#df-0f2e8a86-1a82-4934-abb3-ffffbade0aea');\n",
              "        const dataTable =\n",
              "          await google.colab.kernel.invokeFunction('convertToInteractive',\n",
              "                                                    [key], {});\n",
              "        if (!dataTable) return;\n",
              "\n",
              "        const docLinkHtml = 'Like what you see? Visit the ' +\n",
              "          '<a target=\"_blank\" href=https://colab.research.google.com/notebooks/data_table.ipynb>data table notebook</a>'\n",
              "          + ' to learn more about interactive tables.';\n",
              "        element.innerHTML = '';\n",
              "        dataTable['output_type'] = 'display_data';\n",
              "        await google.colab.output.renderOutput(dataTable, element);\n",
              "        const docLink = document.createElement('div');\n",
              "        docLink.innerHTML = docLinkHtml;\n",
              "        element.appendChild(docLink);\n",
              "      }\n",
              "    </script>\n",
              "  </div>\n",
              "\n",
              "\n",
              "<div id=\"df-8748cf77-2fe2-404e-829e-171ea9923b52\">\n",
              "  <button class=\"colab-df-quickchart\" onclick=\"quickchart('df-8748cf77-2fe2-404e-829e-171ea9923b52')\"\n",
              "            title=\"Suggest charts.\"\n",
              "            style=\"display:none;\">\n",
              "\n",
              "<svg xmlns=\"http://www.w3.org/2000/svg\" height=\"24px\"viewBox=\"0 0 24 24\"\n",
              "     width=\"24px\">\n",
              "    <g>\n",
              "        <path d=\"M19 3H5c-1.1 0-2 .9-2 2v14c0 1.1.9 2 2 2h14c1.1 0 2-.9 2-2V5c0-1.1-.9-2-2-2zM9 17H7v-7h2v7zm4 0h-2V7h2v10zm4 0h-2v-4h2v4z\"/>\n",
              "    </g>\n",
              "</svg>\n",
              "  </button>\n",
              "\n",
              "<style>\n",
              "  .colab-df-quickchart {\n",
              "    background-color: #E8F0FE;\n",
              "    border: none;\n",
              "    border-radius: 50%;\n",
              "    cursor: pointer;\n",
              "    display: none;\n",
              "    fill: #1967D2;\n",
              "    height: 32px;\n",
              "    padding: 0 0 0 0;\n",
              "    width: 32px;\n",
              "  }\n",
              "\n",
              "  .colab-df-quickchart:hover {\n",
              "    background-color: #E2EBFA;\n",
              "    box-shadow: 0px 1px 2px rgba(60, 64, 67, 0.3), 0px 1px 3px 1px rgba(60, 64, 67, 0.15);\n",
              "    fill: #174EA6;\n",
              "  }\n",
              "\n",
              "  [theme=dark] .colab-df-quickchart {\n",
              "    background-color: #3B4455;\n",
              "    fill: #D2E3FC;\n",
              "  }\n",
              "\n",
              "  [theme=dark] .colab-df-quickchart:hover {\n",
              "    background-color: #434B5C;\n",
              "    box-shadow: 0px 1px 3px 1px rgba(0, 0, 0, 0.15);\n",
              "    filter: drop-shadow(0px 1px 2px rgba(0, 0, 0, 0.3));\n",
              "    fill: #FFFFFF;\n",
              "  }\n",
              "</style>\n",
              "\n",
              "  <script>\n",
              "    async function quickchart(key) {\n",
              "      const charts = await google.colab.kernel.invokeFunction(\n",
              "          'suggestCharts', [key], {});\n",
              "    }\n",
              "    (() => {\n",
              "      let quickchartButtonEl =\n",
              "        document.querySelector('#df-8748cf77-2fe2-404e-829e-171ea9923b52 button');\n",
              "      quickchartButtonEl.style.display =\n",
              "        google.colab.kernel.accessAllowed ? 'block' : 'none';\n",
              "    })();\n",
              "  </script>\n",
              "</div>\n",
              "    </div>\n",
              "  </div>\n"
            ],
            "text/plain": [
              "                    longitude  latitude  housing_median_age  total_rooms  \\\n",
              "longitude            1.000000 -0.925208           -0.114250     0.047010   \n",
              "latitude            -0.925208  1.000000            0.016454    -0.038773   \n",
              "housing_median_age  -0.114250  0.016454            1.000000    -0.360984   \n",
              "total_rooms          0.047010 -0.038773           -0.360984     1.000000   \n",
              "total_bedrooms       0.071802 -0.069373           -0.320434     0.928403   \n",
              "population           0.101674 -0.111261           -0.295890     0.860170   \n",
              "households           0.059628 -0.074902           -0.302754     0.919018   \n",
              "median_income       -0.015485 -0.080303           -0.115932     0.195383   \n",
              "median_house_value  -0.044982 -0.144917            0.106758     0.130991   \n",
              "\n",
              "                    total_bedrooms  population  households  median_income  \\\n",
              "longitude                 0.071802    0.101674    0.059628      -0.015485   \n",
              "latitude                 -0.069373   -0.111261   -0.074902      -0.080303   \n",
              "housing_median_age       -0.320434   -0.295890   -0.302754      -0.115932   \n",
              "total_rooms               0.928403    0.860170    0.919018       0.195383   \n",
              "total_bedrooms            1.000000    0.881169    0.980920      -0.013495   \n",
              "population                0.881169    1.000000    0.909247      -0.000638   \n",
              "households                0.980920    0.909247    1.000000       0.007644   \n",
              "median_income            -0.013495   -0.000638    0.007644       1.000000   \n",
              "median_house_value        0.045783   -0.027850    0.061031       0.691871   \n",
              "\n",
              "                    median_house_value  \n",
              "longitude                    -0.044982  \n",
              "latitude                     -0.144917  \n",
              "housing_median_age            0.106758  \n",
              "total_rooms                   0.130991  \n",
              "total_bedrooms                0.045783  \n",
              "population                   -0.027850  \n",
              "households                    0.061031  \n",
              "median_income                 0.691871  \n",
              "median_house_value            1.000000  "
            ]
          },
          "execution_count": 5,
          "metadata": {},
          "output_type": "execute_result"
        }
      ],
      "source": [
        "import pandas as pd\n",
        "\n",
        "df=pd.read_csv('/content/sample_data/california_housing_train.csv')\n",
        "\n",
        "df.corr()"
      ]
    },
    {
      "cell_type": "code",
      "execution_count": null,
      "metadata": {
        "colab": {
          "base_uri": "https://localhost:8080/"
        },
        "id": "2sEgP01_KOuu",
        "outputId": "3eac200d-c312-4096-c0ff-f28b8da368be"
      },
      "outputs": [
        {
          "name": "stdout",
          "output_type": "stream",
          "text": [
            "Enter the number between 1 and 9: 5\n",
            "Computer: 3\n",
            "User: 5\n",
            "You won\n",
            "Enter the number between 1 and 9: 8\n",
            "Computer: 8\n",
            "User: 8\n",
            "Tie\n",
            "Enter the number between 1 and 9: 6\n",
            "Computer: 7\n",
            "User: 6\n",
            "Computer won\n"
          ]
        }
      ],
      "source": [
        "import random\n",
        "import pandas as pd\n",
        "\n",
        "computer_wins = 0\n",
        "user_wins = 0\n",
        "\n",
        "for i in range(10):\n",
        "    computer = random.randint(1, 9)\n",
        "    user_input = int(input(\"Enter the number between 1 and 9: \"))\n",
        "    print(f\"Computer: {computer}\")\n",
        "    print(f\"User: {user_input}\")\n",
        "    if computer > user_input:\n",
        "        print(\"Computer won\")\n",
        "        computer_wins += 1\n",
        "    elif computer == user_input:\n",
        "        print(\"Tie\")\n",
        "    else:\n",
        "        print(\"You won\")\n",
        "        user_wins += 1\n",
        "\n",
        "data = {\"Computer Wins\": [computer_wins], \"User Wins\": [user_wins]}\n",
        "df = pd.DataFrame(data)\n",
        "\n",
        "csv_filename = 'output.csv'\n",
        "df.to_csv(csv_filename, index=False)\n",
        "\n",
        "print(f\"Data saved to {csv_filename}\")\n"
      ]
    },
    {
      "cell_type": "code",
      "execution_count": null,
      "metadata": {
        "id": "XhsmzeYdxzSX"
      },
      "outputs": [],
      "source": []
    },
    {
      "cell_type": "markdown",
      "metadata": {
        "id": "fPDkG6hnzaJd"
      },
      "source": [
        "**Linear regression**"
      ]
    },
    {
      "cell_type": "code",
      "execution_count": 1,
      "metadata": {
        "id": "b1RklyQxze6a"
      },
      "outputs": [],
      "source": [
        "import pandas as pd\n",
        "import numpy as np\n",
        "import matplotlib.pyplot as plt\n"
      ]
    },
    {
      "cell_type": "code",
      "execution_count": 5,
      "metadata": {
        "id": "7DEHbtm00sLV"
      },
      "outputs": [],
      "source": [
        "x=np.array([1,5,13,25,33,46]).reshape((-1,1))\n",
        "y=np.array([3,6,15,12,21,18])\n"
      ]
    },
    {
      "cell_type": "code",
      "execution_count": 4,
      "metadata": {
        "colab": {
          "base_uri": "https://localhost:8080/",
          "height": 449
        },
        "id": "YXtRiH7K1Fix",
        "outputId": "0f3986c6-65d6-4861-ce16-8de662cf0c64"
      },
      "outputs": [
        {
          "data": {
            "image/png": "[encoded data removed]",
            "text/plain": [
              "<Figure size 640x480 with 1 Axes>"
            ]
          },
          "metadata": {},
          "output_type": "display_data"
        }
      ],
      "source": [
        "plt.scatter(x,y)\n",
        "plt.xlabel(\"IV\")\n",
        "plt.ylabel(\"DV\")\n",
        "plt.show()"
      ]
    },
    {
      "cell_type": "code",
      "execution_count": 6,
      "metadata": {
        "id": "zSdKbZu_1Zbe"
      },
      "outputs": [],
      "source": [
        "from sklearn.linear_model import LinearRegression"
      ]
    },
    {
      "cell_type": "code",
      "execution_count": 7,
      "metadata": {
        "id": "WAVx8DFL17fw"
      },
      "outputs": [],
      "source": [
        "SLR=LinearRegression()"
      ]
    },
    {
      "cell_type": "code",
      "execution_count": 8,
      "metadata": {
        "colab": {
          "base_uri": "https://localhost:8080/",
          "height": 74
        },
        "id": "58ZPV55D2BTk",
        "outputId": "7bd517be-25df-4853-d86c-6b7bfcabb6b2"
      },
      "outputs": [
        {
          "data": {
            "text/html": [
              "<style>#sk-container-id-1 {color: black;background-color: white;}#sk-container-id-1 pre{padding: 0;}#sk-container-id-1 div.sk-toggleable {background-color: white;}#sk-container-id-1 label.sk-toggleable__label {cursor: pointer;display: block;width: 100%;margin-bottom: 0;padding: 0.3em;box-sizing: border-box;text-align: center;}#sk-container-id-1 label.sk-toggleable__label-arrow:before {content: \"▸\";float: left;margin-right: 0.25em;color: #696969;}#sk-container-id-1 label.sk-toggleable__label-arrow:hover:before {color: black;}#sk-container-id-1 div.sk-estimator:hover label.sk-toggleable__label-arrow:before {color: black;}#sk-container-id-1 div.sk-toggleable__content {max-height: 0;max-width: 0;overflow: hidden;text-align: left;background-color: #f0f8ff;}#sk-container-id-1 div.sk-toggleable__content pre {margin: 0.2em;color: black;border-radius: 0.25em;background-color: #f0f8ff;}#sk-container-id-1 input.sk-toggleable__control:checked~div.sk-toggleable__content {max-height: 200px;max-width: 100%;overflow: auto;}#sk-container-id-1 input.sk-toggleable__control:checked~label.sk-toggleable__label-arrow:before {content: \"▾\";}#sk-container-id-1 div.sk-estimator input.sk-toggleable__control:checked~label.sk-toggleable__label {background-color: #d4ebff;}#sk-container-id-1 div.sk-label input.sk-toggleable__control:checked~label.sk-toggleable__label {background-color: #d4ebff;}#sk-container-id-1 input.sk-hidden--visually {border: 0;clip: rect(1px 1px 1px 1px);clip: rect(1px, 1px, 1px, 1px);height: 1px;margin: -1px;overflow: hidden;padding: 0;position: absolute;width: 1px;}#sk-container-id-1 div.sk-estimator {font-family: monospace;background-color: #f0f8ff;border: 1px dotted black;border-radius: 0.25em;box-sizing: border-box;margin-bottom: 0.5em;}#sk-container-id-1 div.sk-estimator:hover {background-color: #d4ebff;}#sk-container-id-1 div.sk-parallel-item::after {content: \"\";width: 100%;border-bottom: 1px solid gray;flex-grow: 1;}#sk-container-id-1 div.sk-label:hover label.sk-toggleable__label {background-color: #d4ebff;}#sk-container-id-1 div.sk-serial::before {content: \"\";position: absolute;border-left: 1px solid gray;box-sizing: border-box;top: 0;bottom: 0;left: 50%;z-index: 0;}#sk-container-id-1 div.sk-serial {display: flex;flex-direction: column;align-items: center;background-color: white;padding-right: 0.2em;padding-left: 0.2em;position: relative;}#sk-container-id-1 div.sk-item {position: relative;z-index: 1;}#sk-container-id-1 div.sk-parallel {display: flex;align-items: stretch;justify-content: center;background-color: white;position: relative;}#sk-container-id-1 div.sk-item::before, #sk-container-id-1 div.sk-parallel-item::before {content: \"\";position: absolute;border-left: 1px solid gray;box-sizing: border-box;top: 0;bottom: 0;left: 50%;z-index: -1;}#sk-container-id-1 div.sk-parallel-item {display: flex;flex-direction: column;z-index: 1;position: relative;background-color: white;}#sk-container-id-1 div.sk-parallel-item:first-child::after {align-self: flex-end;width: 50%;}#sk-container-id-1 div.sk-parallel-item:last-child::after {align-self: flex-start;width: 50%;}#sk-container-id-1 div.sk-parallel-item:only-child::after {width: 0;}#sk-container-id-1 div.sk-dashed-wrapped {border: 1px dashed gray;margin: 0 0.4em 0.5em 0.4em;box-sizing: border-box;padding-bottom: 0.4em;background-color: white;}#sk-container-id-1 div.sk-label label {font-family: monospace;font-weight: bold;display: inline-block;line-height: 1.2em;}#sk-container-id-1 div.sk-label-container {text-align: center;}#sk-container-id-1 div.sk-container {/* jupyter's `normalize.less` sets `[hidden] { display: none; }` but bootstrap.min.css set `[hidden] { display: none !important; }` so we also need the `!important` here to be able to override the default hidden behavior on the sphinx rendered scikit-learn.org. See: https://github.com/scikit-learn/scikit-learn/issues/21755 */display: inline-block !important;position: relative;}#sk-container-id-1 div.sk-text-repr-fallback {display: none;}</style><div id=\"sk-container-id-1\" class=\"sk-top-container\"><div class=\"sk-text-repr-fallback\"><pre>LinearRegression()</pre><b>In a Jupyter environment, please rerun this cell to show the HTML representation or trust the notebook. <br />On GitHub, the HTML representation is unable to render, please try loading this page with nbviewer.org.</b></div><div class=\"sk-container\" hidden><div class=\"sk-item\"><div class=\"sk-estimator sk-toggleable\"><input class=\"sk-toggleable__control sk-hidden--visually\" id=\"sk-estimator-id-1\" type=\"checkbox\" checked><label for=\"sk-estimator-id-1\" class=\"sk-toggleable__label sk-toggleable__label-arrow\">LinearRegression</label><div class=\"sk-toggleable__content\"><pre>LinearRegression()</pre></div></div></div></div></div>"
            ],
            "text/plain": [
              "LinearRegression()"
            ]
          },
          "execution_count": 8,
          "metadata": {},
          "output_type": "execute_result"
        }
      ],
      "source": [
        "SLR.fit(x,y)"
      ]
    },
    {
      "cell_type": "code",
      "execution_count": 9,
      "metadata": {
        "id": "yueV4mId2ILR"
      },
      "outputs": [],
      "source": [
        "pred=SLR.predict(x)"
      ]
    },
    {
      "cell_type": "code",
      "execution_count": 12,
      "metadata": {
        "colab": {
          "base_uri": "https://localhost:8080/",
          "height": 482
        },
        "id": "5-Gp_1J02P6G",
        "outputId": "a98d16a7-931c-47cd-d08a-38a5d2c67135"
      },
      "outputs": [
        {
          "name": "stdout",
          "output_type": "stream",
          "text": [
            "MSE: 11.247422680412372\n",
            "intercept: 5.525773195876288\n",
            "slope: [0.34020619]\n"
          ]
        },
        {
          "data": {
            "image/png": "[encoded data removed]",
            "text/plain": [
              "<Figure size 640x480 with 1 Axes>"
            ]
          },
          "metadata": {},
          "output_type": "display_data"
        }
      ],
      "source": [
        "from sklearn.metrics import mean_squared_error\n",
        "\n",
        "mse=mean_squared_error(y,pred)\n",
        "plt.plot(x,pred,color=\"red\",marker=\"*\")\n",
        "\n",
        "print(\"MSE:\",mse)\n",
        "print(\"intercept:\", SLR.intercept_)\n",
        "print(\"slope:\", SLR.coef_)"
      ]
    },
    {
      "cell_type": "code",
      "execution_count": null,
      "metadata": {
        "id": "tAJZLGNR3oJf"
      },
      "outputs": [],
      "source": []
    }
  ],
  "metadata": {
    "colab": {
      "provenance": []
    },
    "kernelspec": {
      "display_name": "Python 3",
      "name": "python3"
    },
    "language_info": {
      "codemirror_mode": {
        "name": "ipython",
        "version": 3
      },
      "file_extension": ".py",
      "mimetype": "text/x-python",
      "name": "python",
      "nbconvert_exporter": "python",
      "pygments_lexer": "ipython3",
      "version": "3.11.1"
    }
  },
  "nbformat": 4,
  "nbformat_minor": 0
}
