{
 "cells": [
  {
   "cell_type": "markdown",
   "metadata": {},
   "source": [
    "***Function using args***"
   ]
  },
  {
   "cell_type": "code",
   "execution_count": 2,
   "metadata": {},
   "outputs": [
    {
     "name": "stdout",
     "output_type": "stream",
     "text": [
      "Naveen\n",
      "45\n",
      "blue\n",
      "red\n",
      "class\n",
      "range\n"
     ]
    }
   ],
   "source": [
    "def funargs(*args): #*args gives us all the elements in the list\n",
    "  for item in args:\n",
    "    print(item)\n",
    "    \n",
    "list=[\"Naveen\",\"45\",\"blue\",\"red\",\"class\",\"range\"]\n",
    "funargs(*list)"
   ]
  },
  {
   "cell_type": "markdown",
   "metadata": {},
   "source": [
    "***Kwargs function usage***"
   ]
  },
  {
   "cell_type": "code",
   "execution_count": 12,
   "metadata": {},
   "outputs": [
    {
     "name": "stdout",
     "output_type": "stream",
     "text": [
      "Hii\n",
      "naveen  1j2f345  ECE  "
     ]
    }
   ],
   "source": [
    "def greet(**kwargs):\n",
    "  print(\"Hii\")\n",
    "  for key, value in kwargs.items():\n",
    "    print(value, end=\"  \")\n",
    "\n",
    "greet(name=\"naveen\", usn=\"1j2f345\", branch=\"ECE\")"
   ]
  },
  {
   "cell_type": "markdown",
   "metadata": {},
   "source": [
    "***Random Importing***"
   ]
  },
  {
   "cell_type": "code",
   "execution_count": 563,
   "metadata": {},
   "outputs": [
    {
     "name": "stdout",
     "output_type": "stream",
     "text": [
      "1\n",
      "0.8088395156327698\n"
     ]
    }
   ],
   "source": [
    "import random\n",
    "\n",
    "x=random.randint(1,15)\n",
    "print(x)\n",
    "\n",
    "a=random.random()\n",
    "print(a)\n"
   ]
  },
  {
   "cell_type": "markdown",
   "metadata": {},
   "source": [
    "***A simple lottery game***"
   ]
  },
  {
   "cell_type": "code",
   "execution_count": 567,
   "metadata": {},
   "outputs": [
    {
     "name": "stdout",
     "output_type": "stream",
     "text": [
      "Computer's number: 2\n",
      "Your number: 4\n",
      "You won\n"
     ]
    }
   ],
   "source": [
    "import random\n",
    "\n",
    "system = random.randint(1, 9)\n",
    "user_input = int(input(\"Enter a number between 1 to 9: \"))\n",
    "print(\"Computer's number:\", system)\n",
    "print(\"Your number:\", user_input)\n",
    "\n",
    "if system > user_input:\n",
    "    print(\"Computer Won\")\n",
    "elif system == user_input:\n",
    "    print(\"Tie\")\n",
    "else:\n",
    "    print(\"You won\")\n"
   ]
  }
 ],
 "metadata": {
  "kernelspec": {
   "display_name": "Python 3",
   "language": "python",
   "name": "python3"
  },
  "language_info": {
   "codemirror_mode": {
    "name": "ipython",
    "version": 3
   },
   "file_extension": ".py",
   "mimetype": "text/x-python",
   "name": "python",
   "nbconvert_exporter": "python",
   "pygments_lexer": "ipython3",
   "version": "3.11.4"
  },
  "orig_nbformat": 4
 },
 "nbformat": 4,
 "nbformat_minor": 2
}
